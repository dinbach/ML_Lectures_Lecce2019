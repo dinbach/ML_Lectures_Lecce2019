{
 "cells": [
  {
   "cell_type": "markdown",
   "metadata": {},
   "source": [
    "# About Jupyter Notebook\n",
    "The \"Files\" tab is where all your files are kept.\n",
    "\n",
    "Whatever here!\n",
    "\n",
    "The \"Running\" tab keeps track of all your processes.\n",
    "\n",
    "\"Clusters\", is provided by IPython parallel, IPython's parallel computing framework. It allows you to control many individual engines, which are an extended version of the IPython kernel."
   ]
  },
  {
   "cell_type": "markdown",
   "metadata": {},
   "source": [
    "### Naming\n",
    "At the top of the page you start by the name `Untitled`. This is the title for the page and the name of your Notebook. Just move your mouse over the word Untitled and rename it!"
   ]
  },
  {
   "cell_type": "markdown",
   "metadata": {},
   "source": [
    "### Running Cells\n",
    "Every cell uses the kernel that you chose when you started the Notebook (here Python 3).\n",
    "Let’s try adding the following code to the next cell. To run it simply press ``Ctrl + Shift`` on your keyboard"
   ]
  },
  {
   "cell_type": "code",
   "execution_count": null,
   "metadata": {
    "scrolled": true
   },
   "outputs": [],
   "source": [
    "print('Hello World')"
   ]
  },
  {
   "cell_type": "markdown",
   "metadata": {},
   "source": [
    "You can load functions and modules easily"
   ]
  },
  {
   "cell_type": "code",
   "execution_count": null,
   "metadata": {},
   "outputs": [],
   "source": [
    "import time\n",
    "sleepTime = 5\n",
    "print('Sleeping for '+ str(sleepTime)+'sec' )\n",
    "time.sleep(sleepTime)\n",
    "\n",
    "print('... Just woke up!')"
   ]
  },
  {
   "cell_type": "markdown",
   "metadata": {},
   "source": [
    "If you have multiple cells, and you run the cells in order, you can share your variables and imports across cells.\n",
    "\n",
    "When you run a cell, notice the square braces next to the word `In` to the left of the cell. The number indicates the order that you ran the cells. "
   ]
  },
  {
   "cell_type": "markdown",
   "metadata": {},
   "source": [
    "### Useful things in the Menus\n",
    "\n",
    "#### File menu\n",
    "Save and Checkpoint option. This allows you to create checkpoints that you can roll back to if you need to.\n",
    "\n",
    "#### Edit menu. \n",
    "Delete, split, or merge actions on a cell. You can also reorder cells from here.\n",
    "\n",
    "####  View menu:\n",
    "Toggle Line Numbers within cells on or off.\n",
    "\n",
    "#### Insert menu:\n",
    "Inserting cells above or below the currently selected cell.\n",
    "\n",
    "#### Cell menu:\n",
    "Run one cell, a group of cells, or all the cells. Clear the output of all cells is useful if you are planning to share your Notebook with others, you will probably want to clear the output first\n",
    "\n",
    "#### Kernel menu:\n",
    "Handle the kernel that is running in the background. Here you can restart the kernel, reconnect to it, shut it down, or even change which kernel your Notebook is using.\n",
    "\n",
    "#### Help menu: \n",
    "Notebook’s keyboard shortcuts, a user interface tour, and lots of reference material."
   ]
  },
  {
   "cell_type": "markdown",
   "metadata": {},
   "source": [
    "### Magic functions\n",
    "\n",
    "Magic functions are built-in shortcuts to useful functionalities\n",
    "\n",
    "This cell magic function renders contents of code cell as html script."
   ]
  },
  {
   "cell_type": "code",
   "execution_count": null,
   "metadata": {},
   "outputs": [],
   "source": [
    "%%html\n",
    "<font size=6 color='blue'>Hello World!</font>"
   ]
  },
  {
   "cell_type": "code",
   "execution_count": null,
   "metadata": {},
   "outputs": [],
   "source": [
    "%%writefile helloworld.py\n",
    "x=10\n",
    "y=20\n",
    "print('x+y=',x+y)"
   ]
  }
 ],
 "metadata": {
  "kernelspec": {
   "display_name": "Python 3",
   "language": "python",
   "name": "python3"
  },
  "language_info": {
   "codemirror_mode": {
    "name": "ipython",
    "version": 3
   },
   "file_extension": ".py",
   "mimetype": "text/x-python",
   "name": "python",
   "nbconvert_exporter": "python",
   "pygments_lexer": "ipython3",
   "version": "3.6.7"
  }
 },
 "nbformat": 4,
 "nbformat_minor": 2
}
